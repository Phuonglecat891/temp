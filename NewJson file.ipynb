{
 "cells": [
  {
   "cell_type": "code",
   "execution_count": 1,
   "metadata": {},
   "outputs": [],
   "source": [
    "import json"
   ]
  },
  {
   "cell_type": "code",
   "execution_count": 2,
   "metadata": {},
   "outputs": [],
   "source": [
    "json_data = {\n",
    "    'shapes': [\n",
    "        {'number': '18',\n",
    "         'label': '18',\n",
    "         'points': [[100,10],[110,11],[120,12]]},\n",
    "        {'number': '17g',\n",
    "         'label': '17g',\n",
    "         'points': [[120,12],[140,14],[160,16]]},\n",
    "        {'number': '16',\n",
    "         'label': '16',\n",
    "         'points': [[110,11],[130,13],[150,15]]},\n",
    "        {'number': '15',\n",
    "         'label': '15',\n",
    "         'points': [[100,10],[110,11],[120,12]]},\n",
    "        {'number': '14g',\n",
    "         'label': '14g',\n",
    "         'points': [[120,12],[140,14],[160,16]]},\n",
    "        {'number': '13',\n",
    "         'label': '13',\n",
    "         'points': [[110,11],[130,13],[150,15]]},\n",
    "        {'number': '12g',\n",
    "         'label': '12g',\n",
    "         'points': [[100,10],[110,11],[120,12]]},\n",
    "        {'number': '11g',\n",
    "         'label': '11g',\n",
    "         'points': [[120,12],[140,14],[160,16]]},\n",
    "        {'number': '21',\n",
    "         'label': '21',\n",
    "         'points': [[110,11],[130,13],[150,15]]},\n",
    "        {'number': '22',\n",
    "         'label': '22',\n",
    "         'points': [[110,11],[130,13],[150,15]]},\n",
    "        {'number': '23',\n",
    "         'label': '23',\n",
    "         'points': [[100,10],[110,11],[120,12]]},\n",
    "#         {'number': '24',\n",
    "#          'label': '24',\n",
    "#          'points': [[120,12],[140,14],[160,16]]},\n",
    "        {'number': '25',\n",
    "         'label': '25',\n",
    "         'points': [[110,11],[130,13],[150,15]]},\n",
    "        {'number': '26',\n",
    "         'label': '26',\n",
    "         'points': [[110,11],[130,13],[150,15]]},\n",
    "        {'number': '27',\n",
    "         'label': '27',\n",
    "         'points': [[110,11],[130,13],[150,15]]},\n",
    "        {'number': '28g',\n",
    "         'label': '28g',\n",
    "         'points': [[100,10],[110,11],[120,12]]},\n",
    "        {'number': '41',\n",
    "         'label': '41',\n",
    "         'points': [[110,11],[130,13],[150,15]]},\n",
    "        {'number': '42',\n",
    "         'label': '42',\n",
    "         'points': [[110,11],[130,13],[150,15]]},\n",
    "        {'number': '43',\n",
    "         'label': '43',\n",
    "         'points': [[110,11],[130,13],[150,15]]},\n",
    "        {'number': '44',\n",
    "         'label': '44',\n",
    "         'points': [[100,10],[110,11],[120,12]]},\n",
    "    ]\n",
    "}"
   ]
  },
  {
   "cell_type": "code",
   "execution_count": 3,
   "metadata": {},
   "outputs": [
    {
     "data": {
      "text/plain": [
       "[{'label': '18', 'number': '18', 'points': [[100, 10], [110, 11], [120, 12]]},\n",
       " {'label': '17g',\n",
       "  'number': '17g',\n",
       "  'points': [[120, 12], [140, 14], [160, 16]]},\n",
       " {'label': '16', 'number': '16', 'points': [[110, 11], [130, 13], [150, 15]]},\n",
       " {'label': '15', 'number': '15', 'points': [[100, 10], [110, 11], [120, 12]]},\n",
       " {'label': '14g',\n",
       "  'number': '14g',\n",
       "  'points': [[120, 12], [140, 14], [160, 16]]},\n",
       " {'label': '13', 'number': '13', 'points': [[110, 11], [130, 13], [150, 15]]},\n",
       " {'label': '12g',\n",
       "  'number': '12g',\n",
       "  'points': [[100, 10], [110, 11], [120, 12]]},\n",
       " {'label': '11g',\n",
       "  'number': '11g',\n",
       "  'points': [[120, 12], [140, 14], [160, 16]]},\n",
       " {'label': '21', 'number': '21', 'points': [[110, 11], [130, 13], [150, 15]]},\n",
       " {'label': '22', 'number': '22', 'points': [[110, 11], [130, 13], [150, 15]]},\n",
       " {'label': '23', 'number': '23', 'points': [[100, 10], [110, 11], [120, 12]]},\n",
       " {'label': '25', 'number': '25', 'points': [[110, 11], [130, 13], [150, 15]]},\n",
       " {'label': '26', 'number': '26', 'points': [[110, 11], [130, 13], [150, 15]]},\n",
       " {'label': '27', 'number': '27', 'points': [[110, 11], [130, 13], [150, 15]]},\n",
       " {'label': '28g',\n",
       "  'number': '28g',\n",
       "  'points': [[100, 10], [110, 11], [120, 12]]},\n",
       " {'label': '41', 'number': '41', 'points': [[110, 11], [130, 13], [150, 15]]},\n",
       " {'label': '42', 'number': '42', 'points': [[110, 11], [130, 13], [150, 15]]},\n",
       " {'label': '43', 'number': '43', 'points': [[110, 11], [130, 13], [150, 15]]},\n",
       " {'label': '44', 'number': '44', 'points': [[100, 10], [110, 11], [120, 12]]}]"
      ]
     },
     "execution_count": 3,
     "metadata": {},
     "output_type": "execute_result"
    }
   ],
   "source": [
    "json_data['shapes']"
   ]
  },
  {
   "cell_type": "code",
   "execution_count": 4,
   "metadata": {},
   "outputs": [],
   "source": [
    "with open(r'D:\\Jupyter Notebook\\Untitled Folder\\myJson.json', 'w') as f:\n",
    "        json.dump(json_data, f)"
   ]
  },
  {
   "cell_type": "code",
   "execution_count": null,
   "metadata": {},
   "outputs": [],
   "source": []
  }
 ],
 "metadata": {
  "kernelspec": {
   "display_name": "Python 3",
   "language": "python",
   "name": "python3"
  },
  "language_info": {
   "codemirror_mode": {
    "name": "ipython",
    "version": 3
   },
   "file_extension": ".py",
   "mimetype": "text/x-python",
   "name": "python",
   "nbconvert_exporter": "python",
   "pygments_lexer": "ipython3",
   "version": "3.7.8"
  }
 },
 "nbformat": 4,
 "nbformat_minor": 4
}
