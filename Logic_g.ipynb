{
 "cells": [
  {
   "cell_type": "code",
   "execution_count": 1,
   "metadata": {},
   "outputs": [],
   "source": [
    "import json"
   ]
  },
  {
   "cell_type": "code",
   "execution_count": 2,
   "metadata": {},
   "outputs": [],
   "source": [
    "json_path = r'D:\\Jupyter Notebook\\Untitled Folder\\myJson.json'"
   ]
  },
  {
   "cell_type": "code",
   "execution_count": 3,
   "metadata": {},
   "outputs": [],
   "source": [
    "with open(json_path, 'r') as f:\n",
    "        data_json = json.load(f)"
   ]
  },
  {
   "cell_type": "code",
   "execution_count": 4,
   "metadata": {},
   "outputs": [
    {
     "data": {
      "text/plain": [
       "{'shapes': [{'label': '18',\n",
       "   'number': '18',\n",
       "   'points': [[100, 10], [110, 11], [120, 12]]},\n",
       "  {'label': '17g',\n",
       "   'number': '17g',\n",
       "   'points': [[120, 12], [140, 14], [160, 16]]},\n",
       "  {'label': '16', 'number': '16', 'points': [[110, 11], [130, 13], [150, 15]]},\n",
       "  {'label': '15', 'number': '15', 'points': [[100, 10], [110, 11], [120, 12]]},\n",
       "  {'label': '14g',\n",
       "   'number': '14g',\n",
       "   'points': [[120, 12], [140, 14], [160, 16]]},\n",
       "  {'label': '13', 'number': '13', 'points': [[110, 11], [130, 13], [150, 15]]},\n",
       "  {'label': '12g',\n",
       "   'number': '12g',\n",
       "   'points': [[100, 10], [110, 11], [120, 12]]},\n",
       "  {'label': '11g',\n",
       "   'number': '11g',\n",
       "   'points': [[120, 12], [140, 14], [160, 16]]},\n",
       "  {'label': '21', 'number': '21', 'points': [[110, 11], [130, 13], [150, 15]]},\n",
       "  {'label': '22', 'number': '22', 'points': [[110, 11], [130, 13], [150, 15]]},\n",
       "  {'label': '23', 'number': '23', 'points': [[100, 10], [110, 11], [120, 12]]},\n",
       "  {'label': '25', 'number': '25', 'points': [[110, 11], [130, 13], [150, 15]]},\n",
       "  {'label': '26', 'number': '26', 'points': [[110, 11], [130, 13], [150, 15]]},\n",
       "  {'label': '27', 'number': '27', 'points': [[110, 11], [130, 13], [150, 15]]},\n",
       "  {'label': '28g',\n",
       "   'number': '28g',\n",
       "   'points': [[100, 10], [110, 11], [120, 12]]},\n",
       "  {'label': '41', 'number': '41', 'points': [[110, 11], [130, 13], [150, 15]]},\n",
       "  {'label': '42', 'number': '42', 'points': [[110, 11], [130, 13], [150, 15]]},\n",
       "  {'label': '43', 'number': '43', 'points': [[110, 11], [130, 13], [150, 15]]},\n",
       "  {'label': '44',\n",
       "   'number': '44',\n",
       "   'points': [[100, 10], [110, 11], [120, 12]]}]}"
      ]
     },
     "execution_count": 4,
     "metadata": {},
     "output_type": "execute_result"
    }
   ],
   "source": [
    "data_json"
   ]
  },
  {
   "cell_type": "code",
   "execution_count": 5,
   "metadata": {},
   "outputs": [],
   "source": [
    "class Tooth():\n",
    "    def __init__(self, shapes):\n",
    "        self.tooth = shapes\n",
    "        self.lst_g, self.lst_opp_g = self._get_lst_g()\n",
    "        \n",
    "    \n",
    "    def _get_lst_g(self):\n",
    "        lst_g = []\n",
    "        lst_xOppLabel_g = []\n",
    "        lst_yOppLabel_g = []\n",
    "        for i in range(len(self.tooth)):\n",
    "            if 'g' in self.tooth[i]['label']:\n",
    "                lst_g.append(i)\n",
    "                nLabel = int(self.tooth[i]['label'][:2])\n",
    "                if nLabel in range(11,20):\n",
    "                    lst_xOppLabel_g.append(str(nLabel+10))\n",
    "                    lst_yOppLabel_g.append(str(nLabel+30))\n",
    "                elif nLabel in range(21,30):\n",
    "                    lst_xOppLabel_g.append(str(nLabel-10))\n",
    "                    lst_yOppLabel_g.append(str(nLabel+10))\n",
    "                elif nLabel in range(31,40):\n",
    "                    lst_xOppLabel_g.append(str(nLabel+10))\n",
    "                    lst_yOppLabel_g.append(str(nLabel-10))\n",
    "                else:\n",
    "                    lst_xOppLabel_g.append(str(nLabel-10))\n",
    "                    lst_yOppLabel_g.append(str(nLabel-30))\n",
    "                    \n",
    "        lst_opp_g = [None]*len(lst_g)\n",
    "        for i in range(len(self.tooth)):\n",
    "            try:\n",
    "                indx = lst_xOppLabel_g.index(self.tooth[i]['label'])\n",
    "                lst_opp_g[indx] = i\n",
    "            except:\n",
    "                try:\n",
    "                    index = lst_yOppLabel_g.index(self.tooth[i]['label'])\n",
    "                    lst_opp_g[index] = i\n",
    "                except:\n",
    "                    continue\n",
    "        \n",
    "        return lst_g, lst_opp_g"
   ]
  },
  {
   "cell_type": "code",
   "execution_count": 6,
   "metadata": {},
   "outputs": [
    {
     "name": "stdout",
     "output_type": "stream",
     "text": [
      "[1, 4, 6, 7, 14]\n",
      "[13, 18, 16, 15, 0]\n"
     ]
    }
   ],
   "source": [
    "temp = Tooth(data_json['shapes'])\n",
    "print(temp.lst_g)\n",
    "print(temp.lst_opp_g)"
   ]
  },
  {
   "cell_type": "code",
   "execution_count": null,
   "metadata": {},
   "outputs": [],
   "source": []
  }
 ],
 "metadata": {
  "kernelspec": {
   "display_name": "Python 3",
   "language": "python",
   "name": "python3"
  },
  "language_info": {
   "codemirror_mode": {
    "name": "ipython",
    "version": 3
   },
   "file_extension": ".py",
   "mimetype": "text/x-python",
   "name": "python",
   "nbconvert_exporter": "python",
   "pygments_lexer": "ipython3",
   "version": "3.7.8"
  }
 },
 "nbformat": 4,
 "nbformat_minor": 4
}
